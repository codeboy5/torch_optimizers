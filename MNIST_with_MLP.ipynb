{
  "cells": [
    {
      "cell_type": "code",
      "execution_count": null,
      "metadata": {
        "id": "Csg4Sfh4te18"
      },
      "outputs": [],
      "source": [
        "!pip install torch accelerate einops plotly"
      ]
    },
    {
      "cell_type": "code",
      "execution_count": 39,
      "metadata": {
        "id": "E_aXuL8EumAV"
      },
      "outputs": [],
      "source": [
        "%matplotlib inline\n",
        "\n",
        "import torch as t\n",
        "import torch.nn as nn\n",
        "import torch.nn.functional as F\n",
        "import numpy as np\n",
        "import matplotlib.pyplot as plt\n",
        "\n",
        "from torch.utils.data import DataLoader\n",
        "from torchvision import datasets\n",
        "from torchvision.transforms import ToTensor\n",
        "\n",
        "from torch_optimizers import SGD, Adam, RMSprop"
      ]
    },
    {
      "cell_type": "code",
      "execution_count": null,
      "metadata": {
        "id": "Z6dmAKpI-bms"
      },
      "outputs": [],
      "source": [
        "batch_size = 32\n",
        "\n",
        "train_dataset = datasets.MNIST('./data', train=True, download=True, transform=ToTensor())\n",
        "test_dataset = datasets.MNIST('./data', train=False, transform=ToTensor())\n",
        "\n",
        "train_loader = DataLoader(dataset=train_dataset, batch_size=batch_size, shuffle=True)\n",
        "test_loader = DataLoader(dataset=test_dataset, batch_size=batch_size, shuffle=False)"
      ]
    },
    {
      "cell_type": "code",
      "execution_count": 8,
      "metadata": {
        "colab": {
          "base_uri": "https://localhost:8080/"
        },
        "id": "jWQKZOY6-mXK",
        "outputId": "a09d452e-c807-4e70-d177-80b56db3f527"
      },
      "outputs": [
        {
          "name": "stdout",
          "output_type": "stream",
          "text": [
            "data: torch.Size([32, 1, 28, 28]) type: torch.FloatTensor\n",
            "target: torch.Size([32]) type: torch.LongTensor\n"
          ]
        }
      ],
      "source": [
        "# For training with the MLP we will need to resize the input image to a vector\n",
        "\n",
        "for (data, target) in train_loader:\n",
        "    print('data:', data.size(), 'type:', data.type())\n",
        "    print('target:', target.size(), 'type:', target.type())\n",
        "    break"
      ]
    },
    {
      "cell_type": "code",
      "execution_count": 7,
      "metadata": {
        "colab": {
          "base_uri": "https://localhost:8080/",
          "height": 124
        },
        "id": "o3ItXQA5-vnH",
        "outputId": "dbb885c5-e55a-4a4f-8025-74867a6cecee"
      },
      "outputs": [
        {
          "data": {
            "image/png": "[encoded data removed]",
            "text/plain": [
              "<Figure size 1000x100 with 10 Axes>"
            ]
          },
          "metadata": {},
          "output_type": "display_data"
        }
      ],
      "source": [
        "pltsize=1\n",
        "plt.figure(figsize=(10*pltsize, pltsize))\n",
        "\n",
        "for i in range(10):\n",
        "    plt.subplot(1,10,i+1)\n",
        "    plt.axis('off')\n",
        "    plt.imshow(data[i,:,:,:].numpy().reshape(28,28), cmap=\"gray_r\")\n",
        "    plt.title('Class: '+str(target[i].item()))"
      ]
    },
    {
      "cell_type": "markdown",
      "metadata": {
        "id": "a5eJnVhP_AXf"
      },
      "source": [
        "### Simple MLP"
      ]
    },
    {
      "cell_type": "code",
      "execution_count": 66,
      "metadata": {
        "id": "40yZU4Co-8p6"
      },
      "outputs": [],
      "source": [
        "class MLP(nn.Module):\n",
        "\n",
        "    def __init__(self, input_dim, hd1, num_classes):\n",
        "        super().__init__()\n",
        "\n",
        "        self.flatten = nn.Flatten()\n",
        "        self.relu = nn.ReLU()\n",
        "\n",
        "        self.fc1 = nn.Linear(input_dim, hd1)\n",
        "        self.fc2 = nn.Linear(hd1, num_classes)\n",
        "\n",
        "    def forward(self, x):\n",
        "\n",
        "        x = self.flatten(x)\n",
        "        x = self.relu(self.fc1(x))\n",
        "        return self.fc2(x)"
      ]
    },
    {
      "cell_type": "code",
      "execution_count": 111,
      "metadata": {
        "colab": {
          "base_uri": "https://localhost:8080/"
        },
        "id": "Wduya_SjA0Zh",
        "outputId": "39794edd-a8be-407e-b4e5-b8718928da23"
      },
      "outputs": [
        {
          "name": "stdout",
          "output_type": "stream",
          "text": [
            "Output Shape:  torch.Size([1, 10])\n"
          ]
        }
      ],
      "source": [
        "device = t.device(\"cuda\")\n",
        "\n",
        "model = MLP(28*28, 128, 10)\n",
        "model = model.to(device)\n",
        "\n",
        "input = t.rand(1, 28, 28, device=device)\n",
        "output = model(input)\n",
        "\n",
        "print(\"Output Shape: \", output.shape)"
      ]
    },
    {
      "cell_type": "code",
      "execution_count": 112,
      "metadata": {
        "colab": {
          "base_uri": "https://localhost:8080/"
        },
        "id": "dpHISjCLGnkY",
        "outputId": "f266c4d8-e7b3-4563-8841-f4a148bf5799"
      },
      "outputs": [
        {
          "name": "stdout",
          "output_type": "stream",
          "text": [
            "tensor([4], device='cuda:0')\n"
          ]
        }
      ],
      "source": [
        "y_pred = output.argmax(dim=1)\n",
        "\n",
        "print(y_pred)"
      ]
    },
    {
      "cell_type": "code",
      "execution_count": 113,
      "metadata": {
        "id": "Mrwa4njABAME"
      },
      "outputs": [],
      "source": [
        "SGD_optim = SGD(model.parameters(), lr=2e-3, momentum=0.99)\n",
        "criterion = nn.CrossEntropyLoss()"
      ]
    },
    {
      "cell_type": "code",
      "execution_count": 114,
      "metadata": {
        "colab": {
          "base_uri": "https://localhost:8080/"
        },
        "id": "Vgy1dNvKFvZD",
        "outputId": "1e5b1ba3-0591-46b2-f66c-02bbb778110f"
      },
      "outputs": [
        {
          "name": "stdout",
          "output_type": "stream",
          "text": [
            "Num Batches:  1875\n",
            "Num Items:  60000\n"
          ]
        }
      ],
      "source": [
        "num_batches = len(train_loader)\n",
        "num_items = len(train_loader.dataset)\n",
        "\n",
        "print(\"Num Batches: \", num_batches)\n",
        "print(\"Num Items: \", num_items)"
      ]
    },
    {
      "cell_type": "code",
      "execution_count": 115,
      "metadata": {
        "id": "zaXyeXR4FjoW"
      },
      "outputs": [],
      "source": [
        "def train(optimizer):\n",
        "    model.train()\n",
        "\n",
        "    total_loss = 0\n",
        "    total_correct = 0\n",
        "\n",
        "    for x, y in train_loader:\n",
        "        x = x.to(device)\n",
        "        y = y.to(device)\n",
        "\n",
        "        output = model(x)\n",
        "        y_pred = output.argmax(dim=1)\n",
        "\n",
        "        # Calculate the loss and backprop\n",
        "        loss = criterion(output, y)\n",
        "        total_loss += loss\n",
        "\n",
        "        loss.backward()\n",
        "        optimizer.step()\n",
        "        optimizer.zero_grad()\n",
        "\n",
        "        num_correct = (y_pred == y).bool().sum()\n",
        "        total_correct += num_correct.item()\n",
        "\n",
        "    train_loss = total_loss/num_batches\n",
        "    accuracy = total_correct/num_items\n",
        "    print(f\"Average loss: {train_loss:7f}, accuracy: {accuracy:.2%}\")\n",
        "\n",
        "    return train_loss.detach().item()"
      ]
    },
    {
      "cell_type": "code",
      "execution_count": 116,
      "metadata": {
        "colab": {
          "base_uri": "https://localhost:8080/"
        },
        "id": "hrPFtddCEQSz",
        "outputId": "2908878e-b58b-44af-d9c8-184df83cc01e"
      },
      "outputs": [
        {
          "name": "stdout",
          "output_type": "stream",
          "text": [
            "Training epoch: 1\n",
            "Average loss: 0.375327, accuracy: 89.53%\n",
            "Training epoch: 2\n",
            "Average loss: 0.130427, accuracy: 96.19%\n",
            "Training epoch: 3\n",
            "Average loss: 0.089649, accuracy: 97.33%\n",
            "Training epoch: 4\n",
            "Average loss: 0.067820, accuracy: 97.89%\n",
            "Training epoch: 5\n",
            "Average loss: 0.055576, accuracy: 98.28%\n",
            "Training epoch: 6\n",
            "Average loss: 0.043798, accuracy: 98.63%\n",
            "Training epoch: 7\n",
            "Average loss: 0.034945, accuracy: 98.93%\n",
            "Training epoch: 8\n",
            "Average loss: 0.029166, accuracy: 99.12%\n",
            "Training epoch: 9\n",
            "Average loss: 0.025418, accuracy: 99.22%\n",
            "Training epoch: 10\n",
            "Average loss: 0.020798, accuracy: 99.42%\n",
            "CPU times: user 1min 28s, sys: 737 ms, total: 1min 29s\n",
            "Wall time: 1min 31s\n"
          ]
        }
      ],
      "source": [
        "%%time\n",
        "epochs = 10\n",
        "sgd_loss_values = []\n",
        "\n",
        "for epoch in range(epochs):\n",
        "    print(f\"Training epoch: {epoch+1}\")\n",
        "    epoch_loss = train(SGD_optim)\n",
        "    sgd_loss_values.append(epoch_loss)"
      ]
    },
    {
      "cell_type": "markdown",
      "metadata": {
        "id": "qtCasrRKJS7Y"
      },
      "source": [
        "#### Adam"
      ]
    },
    {
      "cell_type": "code",
      "execution_count": 118,
      "metadata": {
        "colab": {
          "base_uri": "https://localhost:8080/"
        },
        "id": "neM3VnIYJL0W",
        "outputId": "29ed2f8d-95c1-4659-f204-985b03b25c45"
      },
      "outputs": [
        {
          "name": "stdout",
          "output_type": "stream",
          "text": [
            "Output Shape:  torch.Size([1, 10])\n"
          ]
        }
      ],
      "source": [
        "device = t.device(\"cuda\")\n",
        "\n",
        "model = MLP(28*28, 128, 10)\n",
        "model = model.to(device)\n",
        "\n",
        "input = t.rand(1, 28, 28, device=device)\n",
        "output = model(input)\n",
        "\n",
        "print(\"Output Shape: \", output.shape)"
      ]
    },
    {
      "cell_type": "code",
      "execution_count": 119,
      "metadata": {
        "id": "t8yzT54OJViS"
      },
      "outputs": [],
      "source": [
        "Adam_optim = Adam(model.parameters(), lr=2e-3, beta1= 0.9, beta2= 0.99)\n",
        "criterion = nn.CrossEntropyLoss()"
      ]
    },
    {
      "cell_type": "code",
      "execution_count": 120,
      "metadata": {
        "colab": {
          "base_uri": "https://localhost:8080/"
        },
        "id": "TkZ5kL9TJjNd",
        "outputId": "1c84dee4-4834-49df-abd6-42bac4a2fb27"
      },
      "outputs": [
        {
          "name": "stdout",
          "output_type": "stream",
          "text": [
            "Training epoch: 1\n",
            "Average loss: 0.238595, accuracy: 92.98%\n",
            "Training epoch: 2\n",
            "Average loss: 0.100643, accuracy: 96.93%\n",
            "Training epoch: 3\n",
            "Average loss: 0.072457, accuracy: 97.74%\n",
            "Training epoch: 4\n",
            "Average loss: 0.055049, accuracy: 98.26%\n",
            "Training epoch: 5\n",
            "Average loss: 0.045976, accuracy: 98.53%\n",
            "Training epoch: 6\n",
            "Average loss: 0.037575, accuracy: 98.79%\n",
            "Training epoch: 7\n",
            "Average loss: 0.033008, accuracy: 98.86%\n",
            "Training epoch: 8\n",
            "Average loss: 0.026180, accuracy: 99.15%\n",
            "Training epoch: 9\n",
            "Average loss: 0.023334, accuracy: 99.24%\n",
            "Training epoch: 10\n",
            "Average loss: 0.020935, accuracy: 99.28%\n",
            "CPU times: user 1min 36s, sys: 767 ms, total: 1min 37s\n",
            "Wall time: 1min 38s\n"
          ]
        }
      ],
      "source": [
        "%%time\n",
        "epochs = 10\n",
        "adam_loss_values = []\n",
        "\n",
        "for epoch in range(epochs):\n",
        "    print(f\"Training epoch: {epoch+1}\")\n",
        "    epoch_loss = train(Adam_optim)\n",
        "    adam_loss_values.append(epoch_loss)"
      ]
    },
    {
      "cell_type": "code",
      "execution_count": 121,
      "metadata": {
        "colab": {
          "base_uri": "https://localhost:8080/",
          "height": 409
        },
        "id": "Yp-cJ0l1Jm0Y",
        "outputId": "f1cc6b64-9a33-49ec-a856-5f8375d7aba9"
      },
      "outputs": [
        {
          "data": {
            "image/png": "[encoded data removed]",
            "text/plain": [
              "<Figure size 600x400 with 1 Axes>"
            ]
          },
          "metadata": {},
          "output_type": "display_data"
        }
      ],
      "source": [
        "plt.figure(figsize=(6, 4))\n",
        "\n",
        "plt.plot(range(1, epochs+1), adam_loss_values, label=\"Adam\")\n",
        "plt.plot(range(1, epochs+1), sgd_loss_values, label=\"SGD with Momentum\")\n",
        "plt.xlabel('Epoch')\n",
        "plt.ylabel('Loss')\n",
        "plt.title('Training Loss Curve')\n",
        "plt.legend()\n",
        "plt.show()"
      ]
    },
    {
      "cell_type": "code",
      "execution_count": null,
      "metadata": {
        "id": "OQMiACdmKOUD"
      },
      "outputs": [],
      "source": []
    }
  ],
  "metadata": {
    "accelerator": "GPU",
    "colab": {
      "gpuType": "T4",
      "provenance": []
    },
    "kernelspec": {
      "display_name": "Python 3",
      "name": "python3"
    },
    "language_info": {
      "name": "python"
    }
  },
  "nbformat": 4,
  "nbformat_minor": 0
}
